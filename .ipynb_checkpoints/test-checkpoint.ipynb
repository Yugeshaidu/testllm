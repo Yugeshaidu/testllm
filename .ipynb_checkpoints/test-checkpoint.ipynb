{
 "cells": [
  {
   "cell_type": "code",
   "execution_count": 16,
   "id": "4c4708a8-bc49-4013-b56e-b447fdfc6015",
   "metadata": {},
   "outputs": [],
   "source": [
    "import PyPDF2\n",
    "import os\n",
    "from typing import List, Dict, Optional\n",
    "#path=\"C:/Users/naidu/Desktop/Data/rawdata/pdfs\""
   ]
  },
  {
   "cell_type": "code",
   "execution_count": 22,
   "id": "dffebe0a",
   "metadata": {},
   "outputs": [
    {
     "name": "stdout",
     "output_type": "stream",
     "text": [
      "\n",
      "Merging the following files:\n",
      "- Case Study.pdf\n",
      "- Wk 1.pdf\n",
      "- Wk 6_L1.pdf\n",
      "\n",
      "Successfully merged 3 files!\n",
      "Merged PDF saved to: C:/Users/naidu/Desktop/Data/preprocessed\\merged_pdfs.pdf\n"
     ]
    },
    {
     "data": {
      "text/plain": [
       "True"
      ]
     },
     "execution_count": 22,
     "metadata": {},
     "output_type": "execute_result"
    }
   ],
   "source": [
    "import PyPDF2\n",
    "import os\n",
    "import random\n",
    "\n",
    "# Input path (where your PDFs are)\n",
    "input_path = \"C:/Users/naidu/Desktop/Data/rawdata/pdfs\"\n",
    "# Output path (where you want to save merged PDFs)\n",
    "output_path =  \"C:/Users/naidu/Desktop/Data/preprocessed\"  # Change this to your desired output location\n",
    "\n",
    "class PDFProcessor:\n",
    "    def __init__(self, input_directory: str, output_directory: str):\n",
    "        self.input_directory = input_directory\n",
    "        self.output_directory = output_directory\n",
    "        \n",
    "        # Create output directory if it doesn't exist\n",
    "        if not os.path.exists(self.output_directory):\n",
    "            os.makedirs(self.output_directory)\n",
    "            print(f\"Created output directory: {self.output_directory}\")\n",
    "    \n",
    "    def merge_pdfs(self, output_filename: str = \"merged_output.pdf\", num_files: int = 2):\n",
    "        try:\n",
    "            # Create full output path\n",
    "            full_output_path = os.path.join(self.output_directory, output_filename)\n",
    "            \n",
    "            pdf_files = [f for f in os.listdir(self.input_directory) \n",
    "                        if f.lower().endswith('.pdf')]\n",
    "            \n",
    "            num_to_merge = min(num_files, len(pdf_files))\n",
    "            selected_files = random.sample(pdf_files, num_to_merge)\n",
    "            \n",
    "            merger = PyPDF2.PdfMerger()\n",
    "            \n",
    "            print(\"\\nMerging the following files:\")\n",
    "            for filename in selected_files:\n",
    "                file_path = os.path.join(self.input_directory, filename)\n",
    "                print(f\"- {filename}\")\n",
    "                merger.append(file_path)\n",
    "            \n",
    "            with open(full_output_path, 'wb') as output_file:\n",
    "                merger.write(output_file)\n",
    "            \n",
    "            print(f\"\\nSuccessfully merged {num_to_merge} files!\")\n",
    "            print(f\"Merged PDF saved to: {full_output_path}\")\n",
    "            return True\n",
    "            \n",
    "        except Exception as e:\n",
    "            print(f\"Error merging PDFs: {str(e)}\")\n",
    "            return False\n",
    "\n",
    "# Create processor instance with both input and output paths\n",
    "processor = PDFProcessor(input_path, output_path)\n",
    "\n",
    "# Merge PDFs (you can change the filename and number of files)\n",
    "processor.merge_pdfs(\n",
    "    output_filename=\"merged_pdfs.pdf\",\n",
    "    num_files=3\n",
    ")"
   ]
  },
  {
   "cell_type": "code",
   "execution_count": 23,
   "id": "2c8e22cc",
   "metadata": {},
   "outputs": [
    {
     "name": "stdout",
     "output_type": "stream",
     "text": [
      "\n",
      "Merging the following files:\n",
      "- NSG 1204 Ax 4 Rubric_FINAL.pdf\n",
      "- 2.pdf\n",
      "\n",
      "Successfully merged 2 files!\n",
      "Merged PDF saved to: C:/Users/naidu/Desktop/Data/preprocessed\\merged_output.pdf\n",
      "\n",
      "Merging the following files:\n",
      "- Wk 7 Wounds (Part 2).pdf\n",
      "- Wk3_L1.pdf\n",
      "- 3.pdf\n",
      "- Wk 7 Wounds (Part 1).pdf\n",
      "- Unconfirmed 354358.crdownload.pdf\n",
      "\n",
      "Successfully merged 5 files!\n",
      "Merged PDF saved to: C:/Users/naidu/Desktop/Data/preprocessed\\my_merged_docs.pdf\n",
      "\n",
      "Merging the following files:\n",
      "- Wk 1.pdf\n",
      "- 1.pdf\n",
      "- Wk 6_L1.pdf\n",
      "\n",
      "Successfully merged 3 files!\n",
      "Merged PDF saved to: C:/Users/naidu/Desktop/Data/preprocessed\\merged_20250102.pdf\n"
     ]
    },
    {
     "data": {
      "text/plain": [
       "True"
      ]
     },
     "execution_count": 23,
     "metadata": {},
     "output_type": "execute_result"
    }
   ],
   "source": [
    "# Basic merge with default settings (2 files)\n",
    "processor.merge_pdfs()\n",
    "\n",
    "# Merge 5 files with a specific filename\n",
    "processor.merge_pdfs(output_filename=\"my_merged_docs.pdf\", num_files=5)\n",
    "\n",
    "# Merge 3 files with a dated filename\n",
    "from datetime import datetime\n",
    "today = datetime.now().strftime(\"%Y%m%d\")\n",
    "processor.merge_pdfs(output_filename=f\"merged_{today}.pdf\", num_files=3)"
   ]
  },
  {
   "cell_type": "code",
   "execution_count": null,
   "id": "91fe5efb-e1b8-4efb-9cc0-c4e8ed7d6b62",
   "metadata": {},
   "outputs": [],
   "source": []
  }
 ],
 "metadata": {
  "kernelspec": {
   "display_name": "Python (p2)",
   "language": "python",
   "name": "p2"
  },
  "language_info": {
   "codemirror_mode": {
    "name": "ipython",
    "version": 3
   },
   "file_extension": ".py",
   "mimetype": "text/x-python",
   "name": "python",
   "nbconvert_exporter": "python",
   "pygments_lexer": "ipython3",
   "version": "3.12.8"
  }
 },
 "nbformat": 4,
 "nbformat_minor": 5
}
